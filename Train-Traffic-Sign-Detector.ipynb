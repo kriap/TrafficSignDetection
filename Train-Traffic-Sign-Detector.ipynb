{
 "cells": [
  {
   "cell_type": "code",
   "execution_count": 1,
   "metadata": {},
   "outputs": [],
   "source": [
    "%matplotlib inline"
   ]
  },
  {
   "cell_type": "code",
   "execution_count": 2,
   "metadata": {},
   "outputs": [],
   "source": [
    "import imageio as io\n",
    "import matplotlib.pyplot as plt\n",
    "from glob import glob\n",
    "import json\n",
    "import os, sys\n",
    "import numpy as np\n",
    "import pandas as pd\n",
    "from PIL import Image\n",
    "import glob\n",
    "from skimage.transform import resize\n",
    "from skimage.color import rgb2gray\n",
    "import matplotlib.patches as patches\n",
    "import cv2\n",
    "import torch.optim as optim\n",
    "from tensorboard_logger import log_value,configure\n",
    "\n",
    "from yolo_net import Yolo\n",
    "from yolo_loss import YoloLoss\n",
    "from utils import *\n",
    "import torch.utils.data as data_utils\n",
    "import math\n",
    "\n",
    "\n",
    "from torch.utils.data.dataloader import default_collate\n",
    "\n",
    "import warnings\n",
    "from functools import partial\n",
    "warnings.filterwarnings('ignore')\n",
    "\n"
   ]
  },
  {
   "cell_type": "code",
   "execution_count": 3,
   "metadata": {},
   "outputs": [],
   "source": [
    "data_directory = os.getcwd() + '\\\\Train_Dataset\\\\'\n",
    "test_directory = os.getcwd() + '\\\\Test_Dataset\\\\'\n",
    "labelpath = data_directory + 'gt.txt'\n",
    "checkpointdir = os.getcwd() + '\\\\final_checkpoint\\\\'\n"
   ]
  },
  {
   "cell_type": "code",
   "execution_count": 4,
   "metadata": {},
   "outputs": [],
   "source": [
    "batch_size = 4\n",
    "IMG_W = 32\n",
    "IMG_H = 32\n",
    "\n",
    "X = prepare_data(data_directory,labelpath)\n",
    "\n",
    "length = len(X)\n",
    "\n",
    "train_split = 0.85\n",
    "valid_split = 0.10\n",
    "test_split = 0.05\n",
    "\n",
    "\n",
    "indices1 = round(train_split * length)\n",
    "indices2 = indices1 + round(valid_split*length)\n",
    "\n",
    "train_data = X[:indices1]\n",
    "\n",
    "valid_data = X[indices1:indices2]\n",
    "\n",
    "test_data = X[indices2:]\n",
    "\n",
    "\n"
   ]
  },
  {
   "cell_type": "code",
   "execution_count": 5,
   "metadata": {},
   "outputs": [],
   "source": [
    "a_train = data_iterator(train_data,batch_size=batch_size,size=(IMG_W,IMG_H))\n",
    "\n",
    "a_valid = data_iterator(valid_data,batch_size=batch_size,size=(IMG_W,IMG_H))"
   ]
  },
  {
   "cell_type": "code",
   "execution_count": 6,
   "metadata": {},
   "outputs": [],
   "source": [
    "net = Yolo(num_classes=2)\n",
    "net = net.double()"
   ]
  },
  {
   "cell_type": "code",
   "execution_count": 7,
   "metadata": {},
   "outputs": [
    {
     "data": {
      "text/plain": [
       "4"
      ]
     },
     "execution_count": 7,
     "metadata": {},
     "output_type": "execute_result"
    }
   ],
   "source": [
    "batch_size"
   ]
  },
  {
   "cell_type": "code",
   "execution_count": 8,
   "metadata": {},
   "outputs": [
    {
     "name": "stdout",
     "output_type": "stream",
     "text": [
      "[13 22 13 23  1]\n"
     ]
    },
    {
     "data": {
      "image/png": "[encoded data removed]",
      "text/plain": [
       "<Figure size 432x288 with 1 Axes>"
      ]
     },
     "metadata": {
      "needs_background": "light"
     },
     "output_type": "display_data"
    }
   ],
   "source": [
    "X_train = a_train.__next__()\n",
    "draw_rectangle(X_train[0][0],X_train[1][0])"
   ]
  },
  {
   "cell_type": "code",
   "execution_count": 9,
   "metadata": {},
   "outputs": [
    {
     "data": {
      "text/plain": [
       "array([[13, 22, 13, 23,  1],\n",
       "       [23, 15, 24, 16,  1],\n",
       "       [28, 17, 29, 19,  0],\n",
       "       [ 9, 19, 10, 21,  1]])"
      ]
     },
     "execution_count": 9,
     "metadata": {},
     "output_type": "execute_result"
    }
   ],
   "source": [
    "X_train[1]"
   ]
  },
  {
   "cell_type": "code",
   "execution_count": 10,
   "metadata": {},
   "outputs": [],
   "source": [
    "optimizer = optim.Adam(net.parameters(), weight_decay=8e-6, lr=0.0001)\n",
    "\n",
    "i = 0\n",
    "best_valid_loss = 1000000"
   ]
  },
  {
   "cell_type": "code",
   "execution_count": 11,
   "metadata": {},
   "outputs": [],
   "source": [
    "pL = YoloLoss(num_classes=2,anchors=net.anchors)\n",
    "pL = pL.double()"
   ]
  },
  {
   "cell_type": "code",
   "execution_count": 12,
   "metadata": {},
   "outputs": [],
   "source": [
    "configure(\"GTSDB/run-final\")\n",
    "\n"
   ]
  },
  {
   "cell_type": "code",
   "execution_count": null,
   "metadata": {},
   "outputs": [
    {
     "name": "stdout",
     "output_type": "stream",
     "text": [
      "Iteration: 2, Loss:3.78 (Coord:0.60 Conf:1.75 Cls:1.44)\n",
      "C:\\Users\\kriap\\Desktop\\TrafficSign\\final_checkpoint\\_weights_1.ckpt\n",
      "Iteration: 3, Loss:3.45 (Coord:0.36 Conf:1.70 Cls:1.39)\n",
      "Iteration: 4, Loss:4.21 (Coord:0.81 Conf:1.89 Cls:1.51)\n",
      "Iteration: 5, Loss:3.30 (Coord:0.48 Conf:1.64 Cls:1.17)\n",
      "Iteration: 6, Loss:3.51 (Coord:0.61 Conf:1.56 Cls:1.34)\n",
      "Iteration: 7, Loss:3.95 (Coord:0.69 Conf:1.57 Cls:1.69)\n",
      "Iteration: 8, Loss:3.14 (Coord:0.40 Conf:1.49 Cls:1.25)\n",
      "Iteration: 9, Loss:3.15 (Coord:0.47 Conf:1.40 Cls:1.28)\n",
      "Iteration: 10, Loss:3.17 (Coord:0.41 Conf:1.29 Cls:1.48)\n",
      "Iteration: 11, Loss:3.39 (Coord:0.54 Conf:1.37 Cls:1.47)\n",
      "Iteration: 12, Loss:3.01 (Coord:0.35 Conf:1.25 Cls:1.41)\n",
      "Iteration: 13, Loss:3.22 (Coord:0.51 Conf:1.31 Cls:1.40)\n",
      "Iteration: 14, Loss:3.11 (Coord:0.58 Conf:1.36 Cls:1.17)\n",
      "Iteration: 15, Loss:2.65 (Coord:0.34 Conf:1.15 Cls:1.16)\n",
      "Iteration: 16, Loss:2.96 (Coord:0.35 Conf:1.31 Cls:1.30)\n",
      "Iteration: 17, Loss:2.80 (Coord:0.38 Conf:1.06 Cls:1.35)\n",
      "Iteration: 18, Loss:2.45 (Coord:0.32 Conf:1.06 Cls:1.07)\n",
      "Iteration: 19, Loss:2.60 (Coord:0.44 Conf:1.22 Cls:0.95)\n",
      "Iteration: 20, Loss:2.63 (Coord:0.50 Conf:1.01 Cls:1.12)\n",
      "Iteration: 21, Loss:2.25 (Coord:0.27 Conf:0.93 Cls:1.05)\n",
      "Iteration: 22, Loss:2.71 (Coord:0.56 Conf:1.07 Cls:1.09)\n",
      "Iteration: 23, Loss:2.61 (Coord:0.43 Conf:0.98 Cls:1.21)\n",
      "Iteration: 24, Loss:2.49 (Coord:0.38 Conf:1.05 Cls:1.07)\n",
      "Iteration: 25, Loss:2.79 (Coord:0.36 Conf:0.98 Cls:1.45)\n",
      "Iteration: 26, Loss:2.51 (Coord:0.34 Conf:1.06 Cls:1.11)\n",
      "Iteration: 27, Loss:2.79 (Coord:0.31 Conf:0.71 Cls:1.77)\n",
      "Iteration: 28, Loss:2.44 (Coord:0.37 Conf:0.71 Cls:1.35)\n",
      "Iteration: 29, Loss:2.01 (Coord:0.34 Conf:0.74 Cls:0.92)\n",
      "Iteration: 30, Loss:2.04 (Coord:0.32 Conf:0.76 Cls:0.96)\n",
      "Iteration: 31, Loss:2.13 (Coord:0.34 Conf:0.76 Cls:1.03)\n",
      "Iteration: 32, Loss:1.92 (Coord:0.28 Conf:0.68 Cls:0.96)\n",
      "Iteration: 33, Loss:2.23 (Coord:0.33 Conf:0.68 Cls:1.21)\n",
      "Iteration: 34, Loss:2.72 (Coord:0.36 Conf:0.66 Cls:1.70)\n",
      "Iteration: 35, Loss:3.14 (Coord:0.40 Conf:0.79 Cls:1.95)\n",
      "Iteration: 36, Loss:2.84 (Coord:0.43 Conf:0.76 Cls:1.65)\n",
      "Iteration: 37, Loss:2.02 (Coord:0.22 Conf:0.75 Cls:1.04)\n",
      "Iteration: 38, Loss:1.64 (Coord:0.34 Conf:0.66 Cls:0.64)\n",
      "Iteration: 39, Loss:2.22 (Coord:0.24 Conf:0.62 Cls:1.36)\n",
      "Iteration: 40, Loss:1.66 (Coord:0.26 Conf:0.55 Cls:0.85)\n",
      "Iteration: 41, Loss:1.39 (Coord:0.24 Conf:0.47 Cls:0.69)\n",
      "Iteration: 42, Loss:1.88 (Coord:0.21 Conf:0.51 Cls:1.17)\n",
      "Iteration: 43, Loss:1.81 (Coord:0.16 Conf:0.53 Cls:1.12)\n",
      "Iteration: 44, Loss:1.46 (Coord:0.25 Conf:0.49 Cls:0.72)\n",
      "Iteration: 45, Loss:2.20 (Coord:0.17 Conf:0.53 Cls:1.50)\n",
      "Iteration: 46, Loss:1.53 (Coord:0.46 Conf:0.54 Cls:0.53)\n",
      "Iteration: 47, Loss:1.63 (Coord:0.27 Conf:0.60 Cls:0.76)\n",
      "Iteration: 48, Loss:1.72 (Coord:0.21 Conf:0.49 Cls:1.02)\n",
      "Iteration: 49, Loss:1.32 (Coord:0.12 Conf:0.39 Cls:0.81)\n",
      "Iteration: 50, Loss:1.43 (Coord:0.39 Conf:0.38 Cls:0.66)\n",
      "Iteration: 51, Loss:1.33 (Coord:0.21 Conf:0.55 Cls:0.56)\n",
      "C:\\Users\\kriap\\Desktop\\TrafficSign\\final_checkpoint\\_weights_50.ckpt\n",
      "Iteration: 52, Loss:1.80 (Coord:0.31 Conf:0.40 Cls:1.09)\n",
      "Iteration: 53, Loss:2.35 (Coord:0.38 Conf:0.52 Cls:1.46)\n",
      "Iteration: 54, Loss:1.45 (Coord:0.17 Conf:0.40 Cls:0.89)\n",
      "Iteration: 55, Loss:1.65 (Coord:0.36 Conf:0.46 Cls:0.83)\n",
      "Iteration: 56, Loss:2.06 (Coord:0.27 Conf:0.35 Cls:1.44)\n",
      "Iteration: 57, Loss:0.86 (Coord:0.22 Conf:0.33 Cls:0.31)\n",
      "Iteration: 58, Loss:1.54 (Coord:0.23 Conf:0.37 Cls:0.94)\n",
      "Iteration: 59, Loss:1.59 (Coord:0.32 Conf:0.37 Cls:0.90)\n",
      "Iteration: 60, Loss:2.30 (Coord:0.41 Conf:0.40 Cls:1.49)\n",
      "Iteration: 61, Loss:0.94 (Coord:0.14 Conf:0.37 Cls:0.43)\n",
      "Iteration: 62, Loss:2.23 (Coord:0.15 Conf:0.32 Cls:1.75)\n",
      "Iteration: 63, Loss:2.08 (Coord:0.39 Conf:0.37 Cls:1.32)\n",
      "Iteration: 64, Loss:1.40 (Coord:0.20 Conf:0.36 Cls:0.84)\n",
      "Iteration: 65, Loss:1.62 (Coord:0.32 Conf:0.37 Cls:0.92)\n",
      "Iteration: 66, Loss:1.29 (Coord:0.19 Conf:0.30 Cls:0.80)\n",
      "Iteration: 67, Loss:1.34 (Coord:0.24 Conf:0.27 Cls:0.83)\n",
      "Iteration: 68, Loss:1.15 (Coord:0.23 Conf:0.28 Cls:0.63)\n",
      "Iteration: 69, Loss:1.04 (Coord:0.19 Conf:0.27 Cls:0.57)\n",
      "Iteration: 70, Loss:1.85 (Coord:0.40 Conf:0.29 Cls:1.15)\n",
      "Iteration: 71, Loss:1.29 (Coord:0.30 Conf:0.41 Cls:0.58)\n",
      "Iteration: 72, Loss:1.95 (Coord:0.49 Conf:0.39 Cls:1.07)\n",
      "Iteration: 73, Loss:1.08 (Coord:0.20 Conf:0.28 Cls:0.60)\n",
      "Iteration: 74, Loss:2.52 (Coord:0.12 Conf:0.28 Cls:2.12)\n",
      "Iteration: 75, Loss:1.62 (Coord:0.19 Conf:0.25 Cls:1.18)\n",
      "Iteration: 76, Loss:1.38 (Coord:0.26 Conf:0.28 Cls:0.84)\n",
      "Iteration: 77, Loss:1.10 (Coord:0.22 Conf:0.31 Cls:0.58)\n",
      "Iteration: 78, Loss:2.08 (Coord:0.13 Conf:0.25 Cls:1.71)\n",
      "Iteration: 79, Loss:1.12 (Coord:0.26 Conf:0.26 Cls:0.61)\n",
      "Iteration: 80, Loss:1.37 (Coord:0.31 Conf:0.32 Cls:0.73)\n",
      "Iteration: 81, Loss:1.72 (Coord:0.23 Conf:0.37 Cls:1.11)\n",
      "Iteration: 82, Loss:3.84 (Coord:0.28 Conf:0.28 Cls:3.29)\n",
      "Iteration: 83, Loss:1.87 (Coord:0.38 Conf:0.30 Cls:1.19)\n",
      "Iteration: 84, Loss:1.18 (Coord:0.39 Conf:0.29 Cls:0.51)\n",
      "Iteration: 85, Loss:1.34 (Coord:0.27 Conf:0.21 Cls:0.86)\n",
      "Iteration: 86, Loss:1.17 (Coord:0.28 Conf:0.24 Cls:0.66)\n",
      "Iteration: 87, Loss:2.53 (Coord:0.26 Conf:0.19 Cls:2.08)\n",
      "Iteration: 88, Loss:1.37 (Coord:0.12 Conf:0.31 Cls:0.94)\n",
      "Iteration: 89, Loss:1.27 (Coord:0.40 Conf:0.21 Cls:0.67)\n",
      "Iteration: 90, Loss:1.97 (Coord:0.30 Conf:0.25 Cls:1.42)\n",
      "Iteration: 91, Loss:1.44 (Coord:0.28 Conf:0.29 Cls:0.88)\n",
      "Iteration: 92, Loss:1.04 (Coord:0.15 Conf:0.25 Cls:0.64)\n",
      "Iteration: 93, Loss:1.33 (Coord:0.37 Conf:0.24 Cls:0.72)\n",
      "Iteration: 94, Loss:2.18 (Coord:0.28 Conf:0.22 Cls:1.68)\n",
      "Iteration: 95, Loss:0.98 (Coord:0.19 Conf:0.17 Cls:0.63)\n",
      "Iteration: 96, Loss:1.84 (Coord:0.13 Conf:0.21 Cls:1.50)\n",
      "Iteration: 97, Loss:1.31 (Coord:0.17 Conf:0.18 Cls:0.96)\n",
      "Iteration: 98, Loss:1.92 (Coord:0.29 Conf:0.23 Cls:1.40)\n",
      "Iteration: 99, Loss:1.10 (Coord:0.11 Conf:0.28 Cls:0.72)\n",
      "Iteration: 100, Loss:1.28 (Coord:0.14 Conf:0.16 Cls:0.99)\n",
      "Iteration: 101, Loss:1.15 (Coord:0.18 Conf:0.27 Cls:0.70)\n",
      "C:\\Users\\kriap\\Desktop\\TrafficSign\\final_checkpoint\\_weights_100.ckpt\n",
      "Iteration: 102, Loss:1.17 (Coord:0.18 Conf:0.17 Cls:0.82)\n",
      "Iteration: 103, Loss:1.83 (Coord:0.26 Conf:0.27 Cls:1.30)\n",
      "Iteration: 104, Loss:1.91 (Coord:0.11 Conf:0.15 Cls:1.65)\n",
      "Iteration: 105, Loss:0.88 (Coord:0.13 Conf:0.13 Cls:0.62)\n",
      "Iteration: 106, Loss:1.04 (Coord:0.14 Conf:0.22 Cls:0.67)\n",
      "Iteration: 107, Loss:1.01 (Coord:0.10 Conf:0.16 Cls:0.76)\n",
      "Iteration: 108, Loss:1.74 (Coord:0.23 Conf:0.18 Cls:1.33)\n",
      "Iteration: 109, Loss:1.90 (Coord:0.17 Conf:0.18 Cls:1.55)\n",
      "Iteration: 110, Loss:0.80 (Coord:0.22 Conf:0.14 Cls:0.44)\n",
      "Iteration: 111, Loss:1.29 (Coord:0.16 Conf:0.14 Cls:0.99)\n",
      "Iteration: 112, Loss:1.29 (Coord:0.41 Conf:0.20 Cls:0.68)\n",
      "Iteration: 113, Loss:1.03 (Coord:0.30 Conf:0.15 Cls:0.58)\n",
      "Iteration: 114, Loss:1.54 (Coord:0.23 Conf:0.25 Cls:1.07)\n",
      "Iteration: 115, Loss:1.74 (Coord:0.26 Conf:0.18 Cls:1.29)\n",
      "Iteration: 116, Loss:0.85 (Coord:0.17 Conf:0.12 Cls:0.56)\n",
      "Iteration: 117, Loss:2.19 (Coord:0.17 Conf:0.18 Cls:1.84)\n",
      "Iteration: 118, Loss:1.49 (Coord:0.51 Conf:0.19 Cls:0.79)\n",
      "Iteration: 119, Loss:1.56 (Coord:0.34 Conf:0.22 Cls:0.99)\n",
      "Iteration: 120, Loss:1.35 (Coord:0.20 Conf:0.12 Cls:1.02)\n",
      "Iteration: 121, Loss:1.14 (Coord:0.12 Conf:0.42 Cls:0.60)\n",
      "Iteration: 122, Loss:1.72 (Coord:0.14 Conf:0.15 Cls:1.43)\n",
      "Iteration: 123, Loss:1.42 (Coord:0.20 Conf:0.13 Cls:1.09)\n",
      "Iteration: 124, Loss:1.03 (Coord:0.16 Conf:0.13 Cls:0.74)\n",
      "Iteration: 125, Loss:1.69 (Coord:0.23 Conf:0.13 Cls:1.33)\n",
      "Iteration: 126, Loss:1.11 (Coord:0.24 Conf:0.12 Cls:0.75)\n",
      "Iteration: 127, Loss:1.20 (Coord:0.24 Conf:0.13 Cls:0.83)\n",
      "Iteration: 128, Loss:1.05 (Coord:0.13 Conf:0.18 Cls:0.74)\n",
      "Iteration: 129, Loss:2.62 (Coord:0.22 Conf:0.17 Cls:2.22)\n",
      "Iteration: 130, Loss:1.72 (Coord:0.29 Conf:0.15 Cls:1.28)\n",
      "Iteration: 131, Loss:1.04 (Coord:0.20 Conf:0.13 Cls:0.70)\n",
      "Iteration: 132, Loss:1.00 (Coord:0.22 Conf:0.13 Cls:0.65)\n",
      "Iteration: 133, Loss:0.96 (Coord:0.16 Conf:0.15 Cls:0.65)\n",
      "Iteration: 134, Loss:2.94 (Coord:0.15 Conf:0.15 Cls:2.64)\n",
      "Iteration: 135, Loss:0.84 (Coord:0.11 Conf:0.13 Cls:0.60)\n",
      "Iteration: 136, Loss:0.77 (Coord:0.20 Conf:0.12 Cls:0.46)\n",
      "Iteration: 137, Loss:0.77 (Coord:0.12 Conf:0.10 Cls:0.55)\n",
      "Iteration: 138, Loss:0.88 (Coord:0.21 Conf:0.17 Cls:0.49)\n",
      "Iteration: 139, Loss:2.13 (Coord:0.20 Conf:0.15 Cls:1.79)\n",
      "Iteration: 140, Loss:0.98 (Coord:0.20 Conf:0.22 Cls:0.56)\n",
      "Iteration: 141, Loss:0.97 (Coord:0.20 Conf:0.20 Cls:0.56)\n"
     ]
    },
    {
     "name": "stdout",
     "output_type": "stream",
     "text": [
      "Iteration: 142, Loss:0.61 (Coord:0.12 Conf:0.08 Cls:0.41)\n",
      "Iteration: 143, Loss:0.83 (Coord:0.19 Conf:0.19 Cls:0.46)\n",
      "Iteration: 144, Loss:0.79 (Coord:0.17 Conf:0.17 Cls:0.44)\n",
      "Iteration: 145, Loss:0.85 (Coord:0.18 Conf:0.12 Cls:0.55)\n",
      "Iteration: 146, Loss:2.82 (Coord:0.17 Conf:0.20 Cls:2.46)\n",
      "Iteration: 147, Loss:0.65 (Coord:0.07 Conf:0.16 Cls:0.42)\n"
     ]
    }
   ],
   "source": [
    "valid_iters = 100\n",
    "for _ in range(2500):\n",
    "    i += 1\n",
    "    log = i%3 == 0\n",
    "    is_valid = i%100 == 0 or i == 20\n",
    "    pL.logging = log\n",
    "    \n",
    "        \n",
    "    ims, labs = a_train.__next__()\n",
    "    ims = ims.reshape((batch_size, IMG_W, IMG_H,3))\n",
    "\n",
    "    ims = torch.from_numpy(np.transpose(ims, [0, 3, 1, 2]))   \n",
    "    ims = Variable(ims)\n",
    "    \n",
    "\n",
    "    optimizer.zero_grad()\n",
    "    output = net(ims)\n",
    "    \n",
    "    output = output.type(torch.DoubleTensor)\n",
    "    \n",
    "    loss, loss_coord, loss_conf,loss_cls = pL(output, labs)\n",
    "    log_value('loss',loss,i)\n",
    "    print(\"Iteration: {}, Loss:{:.2f} (Coord:{:.2f} Conf:{:.2f} Cls:{:.2f})\".format(i + 1,loss,loss_coord,loss_conf,loss_cls))    \n",
    "    loss.backward()\n",
    "    optimizer.step()\n",
    "    \n",
    "    ### check if there are nan values in network\n",
    "    if i % 100 == 0:\n",
    "        if np.isnan(torch.sum(output).data[0]):\n",
    "            print('NAN values')\n",
    "            break\n",
    "            \n",
    "    if i % 50 == 0 or i ==1:\n",
    "        torch.save(net.state_dict(), os.path.join(checkpointdir ,'_weights_%d.ckpt'%i))\n",
    "        print(os.path.join(checkpointdir, '_weights_%d.ckpt'%i))\n",
    "            \n",
    "    '''\n",
    "    if is_valid:\n",
    "        losses = []\n",
    "        for iter, batch in enumerate(a_valid):\n",
    "            \n",
    "            ims, labs = batch\n",
    "            ims = ims.reshape((batch_size, IMG_W, IMG_H,3))\n",
    "\n",
    "            ims = torch.from_numpy(np.transpose(ims, [0, 3, 1, 2]))   \n",
    "            ims = Variable(ims)\n",
    "    \n",
    "            output = net(ims)\n",
    "    \n",
    "            output = output.type(torch.DoubleTensor)\n",
    "    \n",
    "            loss, loss_coord, loss_conf,loss_cls = pL(output, labs)\n",
    "    \n",
    "            losses.append(loss)\n",
    "        \n",
    "        valid_loss = np.mean(losses)\n",
    "        log_value('valid_loss/total_loss', np.log(valid_loss + 1e-10), i)\n",
    "        \n",
    "        if valid_loss < best_valid_loss:\n",
    "            torch.save(net.state_dict(), os.path.join(checkpointdir, '_weights_%d.ckpt'%i))\n",
    "            print(os.path.join(checkpointdir, '_weights_%d.ckpt'%i))\n",
    "            best_valid_loss = valid_loss\n",
    "            \n",
    "    '''\n",
    "            \n",
    "    "
   ]
  },
  {
   "cell_type": "code",
   "execution_count": null,
   "metadata": {},
   "outputs": [],
   "source": []
  }
 ],
 "metadata": {
  "kernelspec": {
   "display_name": "Python 3",
   "language": "python",
   "name": "python3"
  },
  "language_info": {
   "codemirror_mode": {
    "name": "ipython",
    "version": 3
   },
   "file_extension": ".py",
   "mimetype": "text/x-python",
   "name": "python",
   "nbconvert_exporter": "python",
   "pygments_lexer": "ipython3",
   "version": "3.7.1"
  }
 },
 "nbformat": 4,
 "nbformat_minor": 2
}
