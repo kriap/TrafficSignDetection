{
 "cells": [
  {
   "cell_type": "code",
   "execution_count": 1,
   "metadata": {},
   "outputs": [],
   "source": [
    "%matplotlib inline\n"
   ]
  },
  {
   "cell_type": "code",
   "execution_count": 1,
   "metadata": {},
   "outputs": [],
   "source": [
    "import imageio as io\n",
    "import matplotlib.pyplot as plt\n",
    "import json\n",
    "import os, sys\n",
    "import numpy as np\n",
    "import pandas as pd\n",
    "from PIL import Image\n",
    "import glob\n",
    "from skimage.transform import resize\n",
    "from skimage.color import rgb2gray\n",
    "import matplotlib.patches as patches\n",
    "import cv2\n",
    "import torch.optim as optim\n",
    "from tensorboard_logger import log_value,configure\n",
    "\n",
    "from yolo_net import Yolo\n",
    "from yolo_loss import YoloLoss\n",
    "from utils import *\n",
    "import torch.utils.data as data_utils\n",
    "import math\n",
    "\n",
    "\n",
    "from torch.utils.data.dataloader import default_collate\n",
    "\n",
    "import warnings\n",
    "from functools import partial\n",
    "warnings.filterwarnings('ignore')\n",
    "\n"
   ]
  },
  {
   "cell_type": "code",
   "execution_count": 2,
   "metadata": {},
   "outputs": [],
   "source": [
    "data_directory = os.getcwd() + '\\\\Train_Dataset\\\\'\n",
    "test_directory = os.getcwd() + '\\\\Test_Dataset\\\\'\n",
    "labelpath = data_directory + 'gt.txt'\n",
    "checkpointdir = os.getcwd() + '\\\\final_checkpoint\\\\'\n"
   ]
  },
  {
   "cell_type": "code",
   "execution_count": 3,
   "metadata": {},
   "outputs": [],
   "source": [
    "batch_size = 4\n",
    "IMG_W = 32\n",
    "IMG_H = 32\n",
    "\n",
    "X = prepare_data(data_directory,labelpath)\n",
    "\n",
    "length = len(X)\n",
    "\n",
    "train_split = 0.85\n",
    "\n",
    "indices = round(train_split * length)\n",
    "\n",
    "train_data = X[:indices]\n",
    "\n",
    "test_data = X[indices:]\n"
   ]
  },
  {
   "cell_type": "code",
   "execution_count": 4,
   "metadata": {},
   "outputs": [],
   "source": [
    "a_test = data_iterator(test_data,batch_size=batch_size,size=(IMG_W,IMG_H))\n"
   ]
  },
  {
   "cell_type": "code",
   "execution_count": 5,
   "metadata": {},
   "outputs": [],
   "source": [
    "net1 = Yolo(num_classes=2)\n",
    "net1 = net1.double()\n",
    "net1.load_state_dict(torch.load(checkpointdir + '_weights_500.ckpt'))"
   ]
  },
  {
   "cell_type": "code",
   "execution_count": 17,
   "metadata": {},
   "outputs": [
    {
     "name": "stdout",
     "output_type": "stream",
     "text": [
      "tensor([[[0.6640],\n",
      "         [0.5074],\n",
      "         [0.5100],\n",
      "         [0.5038],\n",
      "         [0.5135]],\n",
      "\n",
      "        [[0.8579],\n",
      "         [0.5031],\n",
      "         [0.5080],\n",
      "         [0.5035],\n",
      "         [0.5053]],\n",
      "\n",
      "        [[0.9393],\n",
      "         [0.5063],\n",
      "         [0.5121],\n",
      "         [0.5025],\n",
      "         [0.5062]],\n",
      "\n",
      "        [[0.8443],\n",
      "         [0.5029],\n",
      "         [0.5105],\n",
      "         [0.5028],\n",
      "         [0.5011]]], dtype=torch.float64)\n",
      "tensor([], dtype=torch.float64)\n"
     ]
    }
   ],
   "source": [
    "CLASSES =  ['blue','red']\n",
    "colors = ['blue','red']\n",
    "ims, labs = a_test.__next__()\n",
    "ims = ims.reshape((batch_size, IMG_W, IMG_H,3))\n",
    "\n",
    "ims = torch.from_numpy(np.transpose(ims, [0, 3, 1, 2]))   \n",
    "ims = Variable(ims)\n",
    "\n",
    "output = net1(ims)\n",
    "    \n",
    "output = output.type(torch.DoubleTensor)\n",
    "predictions = post_processing(output, 32, gt_classes=CLASSES, anchors=net1.anchors, conf_threshold=0.7, nms_threshold=0.9)\n",
    "\n",
    "\n",
    "print(predictions)"
   ]
  },
  {
   "cell_type": "code",
   "execution_count": 31,
   "metadata": {},
   "outputs": [],
   "source": [
    "best_anchors = []\n",
    "\n",
    "for pred in predictions:\n",
    "    conf = 0\n",
    "    for anchor in pred:\n",
    "        if(anchor[4]>conf):\n",
    "            \n",
    "            conf = anchor[4]\n",
    "            best = anchor\n",
    "            \n",
    "    best_anchors.append(best)\n",
    "        \n",
    "        "
   ]
  },
  {
   "cell_type": "code",
   "execution_count": 27,
   "metadata": {},
   "outputs": [
    {
     "data": {
      "text/plain": [
       "[[8.174371608886336,\n",
       "  12.8763507315388,\n",
       "  34.80540719664106,\n",
       "  22.115088593726178,\n",
       "  0.7221035977666789],\n",
       " [10.671818512252276,\n",
       "  11.088660416952175,\n",
       "  31.282534946164567,\n",
       "  24.882852955126555,\n",
       "  0.5830920123491561],\n",
       " [9.46184252736236,\n",
       "  15.299641540856925,\n",
       "  32.43419296849379,\n",
       "  27.237031725153365,\n",
       "  0.9831505836265665],\n",
       " [11.998415950785065,\n",
       "  15.43509556660883,\n",
       "  28.73519408525817,\n",
       "  24.752852646473535,\n",
       "  0.8786101183541214]]"
      ]
     },
     "execution_count": 27,
     "metadata": {},
     "output_type": "execute_result"
    }
   ],
   "source": [
    "best_anchors"
   ]
  },
  {
   "cell_type": "code",
   "execution_count": 28,
   "metadata": {},
   "outputs": [
    {
     "name": "stdout",
     "output_type": "stream",
     "text": [
      "[10 21 11 22  1]\n"
     ]
    },
    {
     "data": {
      "image/png": "[encoded data removed]",
      "text/plain": [
       "<Figure size 432x288 with 1 Axes>"
      ]
     },
     "metadata": {
      "needs_background": "light"
     },
     "output_type": "display_data"
    }
   ],
   "source": [
    "draw_rectangle(image=np.transpose(ims[0],[1,2,0]),box=labs[0])"
   ]
  },
  {
   "cell_type": "code",
   "execution_count": 29,
   "metadata": {},
   "outputs": [
    {
     "data": {
      "text/plain": [
       "torch.Size([32, 32, 3])"
      ]
     },
     "execution_count": 29,
     "metadata": {},
     "output_type": "execute_result"
    }
   ],
   "source": [
    "np.shape(np.transpose(ims[0],[1,2,0]))"
   ]
  },
  {
   "cell_type": "code",
   "execution_count": 38,
   "metadata": {},
   "outputs": [],
   "source": [
    "box = predictions[0][0]"
   ]
  },
  {
   "cell_type": "code",
   "execution_count": 39,
   "metadata": {},
   "outputs": [
    {
     "data": {
      "text/plain": [
       "[2.071146484823597,\n",
       " 5.480264548455619,\n",
       " 34.85478123106122,\n",
       " 22.789257617281898,\n",
       " 0.6145721930626307]"
      ]
     },
     "execution_count": 39,
     "metadata": {},
     "output_type": "execute_result"
    }
   ],
   "source": [
    "box"
   ]
  },
  {
   "cell_type": "code",
   "execution_count": 40,
   "metadata": {},
   "outputs": [],
   "source": [
    "xmin = int(max(box[0] , 0))\n",
    "ymin = int(max(box[1], 0))\n",
    "xmax = int(min((box[0] + box[2]) , 32))\n",
    "ymax = int(min((box[1] + box[3]) , 32))\n",
    "    "
   ]
  },
  {
   "cell_type": "code",
   "execution_count": 32,
   "metadata": {},
   "outputs": [
    {
     "data": {
      "text/plain": [
       "2"
      ]
     },
     "execution_count": 32,
     "metadata": {},
     "output_type": "execute_result"
    }
   ],
   "source": [
    "xmin"
   ]
  },
  {
   "cell_type": "code",
   "execution_count": 33,
   "metadata": {},
   "outputs": [
    {
     "data": {
      "text/plain": [
       "5"
      ]
     },
     "execution_count": 33,
     "metadata": {},
     "output_type": "execute_result"
    }
   ],
   "source": [
    "ymin"
   ]
  },
  {
   "cell_type": "code",
   "execution_count": 34,
   "metadata": {},
   "outputs": [
    {
     "data": {
      "text/plain": [
       "32"
      ]
     },
     "execution_count": 34,
     "metadata": {},
     "output_type": "execute_result"
    }
   ],
   "source": [
    "xmax"
   ]
  },
  {
   "cell_type": "code",
   "execution_count": 35,
   "metadata": {},
   "outputs": [
    {
     "data": {
      "text/plain": [
       "28"
      ]
     },
     "execution_count": 35,
     "metadata": {},
     "output_type": "execute_result"
    }
   ],
   "source": [
    "ymax"
   ]
  },
  {
   "cell_type": "code",
   "execution_count": 19,
   "metadata": {},
   "outputs": [
    {
     "data": {
      "text/plain": [
       "-749"
      ]
     },
     "execution_count": 19,
     "metadata": {},
     "output_type": "execute_result"
    }
   ],
   "source": [
    "h"
   ]
  },
  {
   "cell_type": "code",
   "execution_count": null,
   "metadata": {},
   "outputs": [],
   "source": []
  },
  {
   "cell_type": "code",
   "execution_count": null,
   "metadata": {},
   "outputs": [],
   "source": []
  },
  {
   "cell_type": "code",
   "execution_count": null,
   "metadata": {},
   "outputs": [],
   "source": []
  },
  {
   "cell_type": "code",
   "execution_count": null,
   "metadata": {},
   "outputs": [],
   "source": []
  }
 ],
 "metadata": {
  "kernelspec": {
   "display_name": "Python 3",
   "language": "python",
   "name": "python3"
  },
  "language_info": {
   "codemirror_mode": {
    "name": "ipython",
    "version": 3
   },
   "file_extension": ".py",
   "mimetype": "text/x-python",
   "name": "python",
   "nbconvert_exporter": "python",
   "pygments_lexer": "ipython3",
   "version": "3.7.1"
  }
 },
 "nbformat": 4,
 "nbformat_minor": 2
}
